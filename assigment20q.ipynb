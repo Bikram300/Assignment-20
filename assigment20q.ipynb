{
  "nbformat": 4,
  "nbformat_minor": 0,
  "metadata": {
    "colab": {
      "name": "assigment20q.ipynb",
      "version": "0.3.2",
      "views": {},
      "default_view": {},
      "provenance": []
    },
    "kernelspec": {
      "name": "python3",
      "display_name": "Python 3"
    }
  },
  "cells": [
    {
      "metadata": {
        "id": "KLXQFPfp3dGj",
        "colab_type": "code",
        "colab": {
          "autoexec": {
            "startup": false,
            "wait_interval": 0
          }
        }
      },
      "cell_type": "code",
      "source": [
        "create a dataframe and add info."
      ],
      "execution_count": 0,
      "outputs": []
    },
    {
      "metadata": {
        "id": "iTUC82eL3f4e",
        "colab_type": "code",
        "colab": {
          "autoexec": {
            "startup": false,
            "wait_interval": 0
          },
          "base_uri": "https://localhost:8080/",
          "height": 102
        },
        "outputId": "bcc97c13-922a-46d5-bf99-e61c328390c1",
        "executionInfo": {
          "status": "ok",
          "timestamp": 1530869064493,
          "user_tz": -330,
          "elapsed": 1544,
          "user": {
            "displayName": "suruchi jain",
            "photoUrl": "https://lh3.googleusercontent.com/a/default-user=s128",
            "userId": "104282324095124070805"
          }
        }
      },
      "cell_type": "code",
      "source": [
        "import pandas as pd\n",
        "import numpy as np\n",
        "data = {'name':['avi','mic','kick','rick'],\n",
        "         'age':[20,18,19,21],\n",
        "         'mail i.d':['ashgdhg@gamil.com','hqgsy@gmail.com','gashydtgwy23467@gmail.com','sgfyhtgweuh@gmail.com'],\n",
        "         'ph no':[3287872465,48658787,467676,372489728]}\n",
        "df=pd.DataFrame(data)\n",
        "print(df)"
      ],
      "execution_count": 4,
      "outputs": [
        {
          "output_type": "stream",
          "text": [
            "   age                   mail i.d  name       ph no\n",
            "0   20          ashgdhg@gamil.com   avi  3287872465\n",
            "1   18            hqgsy@gmail.com   mic    48658787\n",
            "2   19  gashydtgwy23467@gmail.com  kick      467676\n",
            "3   21      sgfyhtgweuh@gmail.com  rick   372489728\n"
          ],
          "name": "stdout"
        }
      ]
    },
    {
      "metadata": {
        "id": "Ctqnt5ZC3f6z",
        "colab_type": "code",
        "colab": {
          "autoexec": {
            "startup": false,
            "wait_interval": 0
          }
        }
      },
      "cell_type": "code",
      "source": [
        ""
      ],
      "execution_count": 0,
      "outputs": []
    }
  ]
}